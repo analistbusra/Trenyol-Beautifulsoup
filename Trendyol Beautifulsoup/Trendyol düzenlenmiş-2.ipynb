{
 "cells": [
  {
   "cell_type": "code",
   "execution_count": 24,
   "metadata": {},
   "outputs": [],
   "source": [
    "from bs4 import BeautifulSoup\n",
    "import requests\n",
    "from openpyxl import Workbook,load_workbook\n",
    "\n",
    "\n",
    "def CreatExcel(fileName):\n",
    "   wb=Workbook()\n",
    "   ws=wb.active\n",
    "\n",
    "   ws.append([\"Ürün Adı\",\"Ürün Ojınal Fİyat\",\"Ürün Son Fiyat\",\"Ürün İndirim\",\"Marka\",\"Sepet İndirim\",\"Yorum sayısı\",\"Kargoya veriliş tarihi.\", \"Favorilere Ekleyen Kişi\",\"Ürün Link\"])\n",
    "   wb.save(fileName+\".xlsx\") \n",
    "   CreatExcel(fileName)\n",
    "   \n",
    "\n",
    "\n",
    "def AddRow(row):\n",
    "   fileName=\"Trendyol\"\n",
    "   wb=load_workbook(fileName+\".xlsx\")\n",
    "   ws=wb.active\n",
    "\n",
    "   ws.append(row)\n",
    "   wb.save(fileName+\".xlsx\")\n",
    "  \n",
    "   \n",
    "\n",
    "def ReadTrendyol(link):\n",
    "   request = requests.get(link)\n",
    "   hb_content = BeautifulSoup(request.content)\n",
    "   UrunOrjınal=hb_content.find(\"span\",attrs={\"class\":\"prc-org\"}).text\n",
    "   UrunAdi=hb_content.find(\"h1\",attrs={\"class\":\"pr-new-br\"}).text\n",
    "   UrunFiyat=hb_content.find(\"span\",attrs={\"class\":\"prc-slg\"}).text\n",
    "   Urunİndirim=hb_content.find(\"span\",attrs={\"class\":\"discounted-stamp-text\"})\n",
    "   Marka=hb_content.find(\"a\",attrs={\"class\":\"merchant-text\"}).text\n",
    "   YorumSayısı=hb_content.find(\"div\",attrs={\"class\":\"rvw-cnt-tx\"})\n",
    "   SepetIndirim=hb_content.find(\"div\",attrs={\"class\":\"pr-bx-pr-dsc\"}).text\n",
    "   FavorilereEkleyen=hb_content.find(\"div\",attrs={\"class\":\"pr-dd\"}).text\n",
    "   Begenen=hb_content.find(\"div\",attrs={\"class\":\"fv-dt\"}).text\n",
    "   \n",
    "   AddRow([UrunAdi,UrunOrjınal,UrunFiyat,Urunİndirim,Marka,SepetIndirim,YorumSayısı,FavorilereEkleyen,Begenen,link])\n",
    " \n",
    "links=[  \"https://www.trendyol.com/alingo/ekose-fistolu-kiz-cocuk-elbise-p-210103765\"\n",
    "      \n",
    "      ]\n",
    "\n",
    "for link in links :\n",
    "\n",
    " ReadTrendyol(link) \n",
    "   \n"
   ]
  }
 ],
 "metadata": {
  "interpreter": {
   "hash": "5bb71e04e3d056b3fd374fe835c740c82b88cf9a64babc7a305394decc4b8aa7"
  },
  "kernelspec": {
   "display_name": "Python 3.9.5 64-bit (system)",
   "language": "python",
   "name": "python3"
  },
  "language_info": {
   "codemirror_mode": {
    "name": "ipython",
    "version": 3
   },
   "file_extension": ".py",
   "mimetype": "text/x-python",
   "name": "python",
   "nbconvert_exporter": "python",
   "pygments_lexer": "ipython3",
   "version": "3.9.5"
  },
  "orig_nbformat": 4
 },
 "nbformat": 4,
 "nbformat_minor": 2
}
